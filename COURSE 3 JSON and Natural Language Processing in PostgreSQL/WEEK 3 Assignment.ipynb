{
 "cells": [
  {
   "cell_type": "code",
   "execution_count": null,
   "id": "313096f7",
   "metadata": {},
   "outputs": [],
   "source": [
    "# Making a connection from Python\n",
    "\n",
    "python3 simple.py\n",
    "\n",
    "SELECT line FROM pythonfun WHERE line LIKE 'Have a nice day 0%';"
   ]
  },
  {
   "cell_type": "code",
   "execution_count": null,
   "id": "2db5b638",
   "metadata": {},
   "outputs": [],
   "source": [
    "# A Sequence of Numbers\n",
    "\n",
    "import psycopg2\n",
    "import hidden\n",
    "\n",
    "secrets = hidden.secrets()\n",
    "\n",
    "conn = psycopg2.connect(host=secrets['host'],\n",
    "        port=secrets['port'],\n",
    "        database=secrets['database'],\n",
    "        user=secrets['user'],\n",
    "        password=secrets['pass'],\n",
    "        connect_timeout=3)\n",
    "\n",
    "cur = conn.cursor()\n",
    "\n",
    "sql = 'DROP TABLE IF EXISTS pythonseq CASCADE;'\n",
    "print(sql)\n",
    "cur.execute(sql)\n",
    "\n",
    "sql = 'CREATE TABLE pythonseq (iter INTEGER, val INTEGER);'\n",
    "print(sql)\n",
    "cur.execute(sql)\n",
    "\n",
    "conn.commit()    # Flush it all to the DB server\n",
    "\n",
    "iter = 1\n",
    "val = 455196\n",
    "sql = 'INSERT INTO pythonseq (iter, val) VALUES (%s, %s);'\n",
    "cur.execute(sql, (iter,val))\n",
    "conn.commit()\n",
    "\n",
    "val = 455196\n",
    "for i in range(1,300) :\n",
    "    iter = i+1\n",
    "    print(iter, val)\n",
    "    val = int((val * 22) / 7) % 1000000\n",
    "\n",
    "    sql = 'INSERT INTO pythonseq (iter, val) VALUES (%s, %s);'\n",
    "    cur.execute(sql, (iter,val))\n",
    "\n",
    "conn.commit()\n",
    "cur.close()"
   ]
  }
 ],
 "metadata": {
  "kernelspec": {
   "display_name": "Python 3 (ipykernel)",
   "language": "python",
   "name": "python3"
  },
  "language_info": {
   "codemirror_mode": {
    "name": "ipython",
    "version": 3
   },
   "file_extension": ".py",
   "mimetype": "text/x-python",
   "name": "python",
   "nbconvert_exporter": "python",
   "pygments_lexer": "ipython3",
   "version": "3.10.4"
  }
 },
 "nbformat": 4,
 "nbformat_minor": 5
}
