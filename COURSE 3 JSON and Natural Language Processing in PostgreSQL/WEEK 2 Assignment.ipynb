{
 "cells": [
  {
   "cell_type": "code",
   "execution_count": null,
   "id": "0285368e",
   "metadata": {},
   "outputs": [],
   "source": [
    "# Building a string array-based GIN index\n",
    "\n",
    "CREATE TABLE docs03 (id SERIAL, doc TEXT, PRIMARY KEY(id));\n",
    "\n",
    "CREATE INDEX array03 ON docs03 USING gin(...);\n",
    "\n",
    "CREATE INDEX array03 ON docs03 USING gin(string_to_array(lower(doc), ' ') array_ops);\n",
    "\n",
    "INSERT INTO docs03 (doc) VALUES\n",
    "('or recompiling the code to create a machine language version of the'),\n",
    "('program for the new machine'),\n",
    "('These programming language translators fall into two general categories'),\n",
    "('An interpreter reads the source code of the program as'),\n",
    "('written by the programmer parses the source code and interprets the'),\n",
    "('instructions on the fly Python is an interpreter and when we are'),\n",
    "('running Python interactively we can type a line of Python a sentence'),\n",
    "('and Python processes it immediately and is ready for us to type another'),\n",
    "('Some of the lines of Python tell Python that you want it to remember'),\n",
    "('some value for later We need to pick a name for that value to be');\n",
    "\n",
    "INSERT INTO docs03 (doc) SELECT 'Neon ' || generate_series(10000,20000);\n",
    "\n",
    "SELECT id, doc FROM docs03 WHERE '{interactively}' <@ string_to_array(lower(doc), ' ');\n",
    "\n",
    "EXPLAIN SELECT id, doc FROM docs03 WHERE '{interactively}' <@ string_to_array(lower(doc), ' ');"
   ]
  },
  {
   "cell_type": "code",
   "execution_count": null,
   "id": "baf1bfe3",
   "metadata": {},
   "outputs": [],
   "source": [
    "# Building a tsvector-based full text GIN index\n",
    "\n",
    "CREATE TABLE docs03 (id SERIAL, doc TEXT, PRIMARY KEY(id));\n",
    "\n",
    "CREATE INDEX fulltext03 ON docs03 USING gin(to_tsvector('english', doc));\n",
    "\n",
    "INSERT INTO docs03 (doc) VALUES\n",
    "('or recompiling the code to create a machine language version of the'),\n",
    "('program for the new machine'),\n",
    "('These programming language translators fall into two general categories'),\n",
    "('An interpreter reads the source code of the program as'),\n",
    "('written by the programmer parses the source code and interprets the'),\n",
    "('instructions on the fly Python is an interpreter and when we are'),\n",
    "('running Python interactively we can type a line of Python a sentence'),\n",
    "('and Python processes it immediately and is ready for us to type another'),\n",
    "('Some of the lines of Python tell Python that you want it to remember'),\n",
    "('some value for later We need to pick a name for that value to be');\n",
    "\n",
    "INSERT INTO docs03 (doc) SELECT 'Neon ' || generate_series(10000,20000);\n",
    "\n",
    "SELECT id, doc FROM docs03 WHERE to_tsquery('english', 'interactively') @@ to_tsvector('english', doc);\n",
    "\n",
    "EXPLAIN SELECT id, doc FROM docs03 WHERE to_tsquery('english', 'interactively') @@ to_tsvector('english', doc);"
   ]
  }
 ],
 "metadata": {
  "kernelspec": {
   "display_name": "Python 3 (ipykernel)",
   "language": "python",
   "name": "python3"
  },
  "language_info": {
   "codemirror_mode": {
    "name": "ipython",
    "version": 3
   },
   "file_extension": ".py",
   "mimetype": "text/x-python",
   "name": "python",
   "nbconvert_exporter": "python",
   "pygments_lexer": "ipython3",
   "version": "3.10.4"
  }
 },
 "nbformat": 4,
 "nbformat_minor": 5
}
