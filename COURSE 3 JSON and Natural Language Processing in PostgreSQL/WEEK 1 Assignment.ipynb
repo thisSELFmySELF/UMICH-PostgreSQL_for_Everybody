{
 "cells": [
  {
   "cell_type": "code",
   "execution_count": null,
   "id": "046d0758",
   "metadata": {},
   "outputs": [],
   "source": [
    "# Building an Inverted Index using SQL\n",
    "\n",
    "INSERT INTO invert01(doc_id, keyword)\n",
    "SELECT DISTINCT id, s.keyword AS keyword\n",
    "FROM docs01 AS D, unnest(string_to_array(lower(D.doc), ' ')) s(keyword)\n",
    "ORDER BY id;"
   ]
  },
  {
   "cell_type": "code",
   "execution_count": null,
   "id": "9273872f",
   "metadata": {},
   "outputs": [],
   "source": [
    "# Building an Inverted Index with stop words using SQL\n",
    "\n",
    "INSERT INTO invert02(doc_id, keyword)\n",
    "SELECT DISTINCT id, s.keyword AS keyword\n",
    "FROM docs02 AS D, unnest(string_to_array(lower(D.doc), ' ')) s(keyword)\n",
    "WHERE s.keyword NOT IN (SELECT word FROM stop_words)\n",
    "ORDER BY id;"
   ]
  }
 ],
 "metadata": {
  "kernelspec": {
   "display_name": "Python 3 (ipykernel)",
   "language": "python",
   "name": "python3"
  },
  "language_info": {
   "codemirror_mode": {
    "name": "ipython",
    "version": 3
   },
   "file_extension": ".py",
   "mimetype": "text/x-python",
   "name": "python",
   "nbconvert_exporter": "python",
   "pygments_lexer": "ipython3",
   "version": "3.10.4"
  }
 },
 "nbformat": 4,
 "nbformat_minor": 5
}
