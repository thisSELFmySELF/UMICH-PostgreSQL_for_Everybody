{
 "cells": [
  {
   "cell_type": "code",
   "execution_count": null,
   "id": "1d62125e",
   "metadata": {},
   "outputs": [],
   "source": [
    "#Add new column called neon15, type INTEGER\n",
    "ALTER TABLE pg4e_debug ADD COLUMN neon15 INTEGER;"
   ]
  },
  {
   "cell_type": "code",
   "execution_count": null,
   "id": "9a4653ba",
   "metadata": {},
   "outputs": [],
   "source": [
    "#Return Distinct values from the column called state and LIMIT 5\n",
    "SELECT DISTINCT ON (state) state FROM taxdata LIMIT 5;"
   ]
  },
  {
   "cell_type": "code",
   "execution_count": null,
   "id": "acfecac0",
   "metadata": {},
   "outputs": [],
   "source": [
    "# Add a stored procedure so that every time a record is updated, the updated_at variable is automatically \n",
    "# set to the current time\n",
    "\n",
    "#Create the timestamp function\n",
    "CREATE OR REPLACE FUNCTION trigger_set_timestamp()\n",
    "RETURNS TRIGGER AS $$\n",
    "BEGIN\n",
    "NEW.updated_at = NOW();\n",
    "RETURN NEW;\n",
    "END;\n",
    "$$ LANGUAGE plpgsql;\n",
    "\n",
    "#Create the trigger for the table called keyvalue\n",
    "CREATE TRIGGER set_timestamp\n",
    "BEFORE UPDATE ON keyvalue\n",
    "FOR EACH ROW\n",
    "EXECUTE PROCEDURE trigger_set_timestamp();"
   ]
  }
 ],
 "metadata": {
  "kernelspec": {
   "display_name": "Python 3 (ipykernel)",
   "language": "python",
   "name": "python3"
  },
  "language_info": {
   "codemirror_mode": {
    "name": "ipython",
    "version": 3
   },
   "file_extension": ".py",
   "mimetype": "text/x-python",
   "name": "python",
   "nbconvert_exporter": "python",
   "pygments_lexer": "ipython3",
   "version": "3.10.4"
  }
 },
 "nbformat": 4,
 "nbformat_minor": 5
}
