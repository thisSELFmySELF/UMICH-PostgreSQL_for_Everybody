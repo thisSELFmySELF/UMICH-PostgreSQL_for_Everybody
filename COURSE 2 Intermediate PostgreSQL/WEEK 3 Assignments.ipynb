{
 "cells": [
  {
   "cell_type": "code",
   "execution_count": null,
   "id": "da507125",
   "metadata": {},
   "outputs": [],
   "source": [
    "#n this assignment you will write a simple hashing function that uses addition and multiplication and then find a pair of strings that will return the same hash value for different strings (i.e you will cause a Hash Collision).\n",
    "\n",
    "# The algorithm uses multiplication based on the position of a letter in the hash to avoid a hash collision when two letters are transposed like in 'ABCDE' and 'ABDCE'. Your strings need to be at least three characters long and no more than 10 characters long.\n",
    "\n",
    "# Enter your two strings below and check if they cause a collision: \n",
    "\n",
    "while True:\n",
    "    txt = input(\"Enter a string: \")\n",
    "    if len(txt) < 1 : break\n",
    "\n",
    "    hv = 0\n",
    "    pos = 0\n",
    "    for let in txt:\n",
    "        pos = ( pos % 3 ) + 1\n",
    "        hv = (hv + (pos * ord(let))) % 1000000\n",
    "        print(let, pos, ord(let), hv)\n",
    "\n",
    "    print(hv, txt)\n",
    "    \n",
    "ABCDE = 604\n",
    "BACDE = 603\n",
    "ACBDE = 603"
   ]
  },
  {
   "cell_type": "code",
   "execution_count": null,
   "id": "1c5e24fd",
   "metadata": {},
   "outputs": [],
   "source": [
    "# In this assignment you will create a table named bigtext with a single TEXT column named content. Insert 100000 records with numbers starting at 100000 and going through 199999 into the table as shown below:\n",
    "\n",
    "# This is record number 100000 of quite a few text records.\n",
    "# This is record number 100001 of quite a few text records.\n",
    "# ...\n",
    "# This is record number 199998 of quite a few text records.\n",
    "# This is record number 199999 of quite a few text records.\n",
    "\n",
    "\n",
    "CREATE TABLE bigtext(\n",
    "    content TEXT\n",
    "    );\n",
    "\n",
    "INSERT INTO bigtext (content) SELECT 'This is record number\n",
    " ' || generate_series(100000,199999) || ' of quite a few text records.';"
   ]
  }
 ],
 "metadata": {
  "kernelspec": {
   "display_name": "Python 3 (ipykernel)",
   "language": "python",
   "name": "python3"
  },
  "language_info": {
   "codemirror_mode": {
    "name": "ipython",
    "version": 3
   },
   "file_extension": ".py",
   "mimetype": "text/x-python",
   "name": "python",
   "nbconvert_exporter": "python",
   "pygments_lexer": "ipython3",
   "version": "3.10.4"
  }
 },
 "nbformat": 4,
 "nbformat_minor": 5
}
