{
 "cells": [
  {
   "cell_type": "code",
   "execution_count": null,
   "id": "784f52e0",
   "metadata": {},
   "outputs": [],
   "source": [
    "Regular Expressions\n",
    "\n",
    "In this assignment you will create a regular expression to retrieve a subset data from the purpose column of the \n",
    "taxdata table in the readonly database (access details below). Write a regular expressions to retrieve that meet \n",
    "the following criteria:\n",
    "\n",
    "Lines that end with with 4 or more digits\n",
    "\n",
    "As an example (not the solution to this assignment), if you were looking for lines where the very first character \n",
    "was an upper case character letter you would run the following query:\n",
    "\n",
    "SELECT purpose FROM taxdata WHERE purpose ~ '^[A-Z]' ORDER BY purpose DESC LIMIT 3;\n",
    "\n",
    "The autograder will add all the SQL - all you need is to enter the appropriate regular expression below. \n",
    "\n",
    " Here are the first few lines:\n",
    "\n",
    "    youth sports activities SPORTS TRAINING FOR COMMUNITY YOUTHS.60568\n",
    "    youth football/cheerleading programs Program- The SVMFL operates a youth football/cheerleading program restricted to boys/girls living in the southern section of the Town of Southington, CT40225\n",
    "    youth baseball organization provide baseball and sportsmanship training and competitive playing opportunities to over 135 area youth.88492\n",
    "\n",
    "REGEX ANS FOR AUTOGRADER:\n",
    "\n",
    ".+\\d{4,5}$"
   ]
  }
 ],
 "metadata": {
  "kernelspec": {
   "display_name": "Python 3 (ipykernel)",
   "language": "python",
   "name": "python3"
  },
  "language_info": {
   "codemirror_mode": {
    "name": "ipython",
    "version": 3
   },
   "file_extension": ".py",
   "mimetype": "text/x-python",
   "name": "python",
   "nbconvert_exporter": "python",
   "pygments_lexer": "ipython3",
   "version": "3.10.4"
  }
 },
 "nbformat": 4,
 "nbformat_minor": 5
}
