{
 "cells": [
  {
   "cell_type": "code",
   "execution_count": null,
   "id": "721b89f9",
   "metadata": {},
   "outputs": [],
   "source": [
    "# SERIAL fields / Auto Increment\n",
    "\n",
    "# In this assignment you will create a table, and the autograder will insert a few rows to test your schema.\n",
    "#  Create a table named automagic with the following fields: \n",
    "#  An id field that is an auto-incrementing serial field. \n",
    "#  A name field that allows up to 32 characters but no more. This field is required. \n",
    "#  A height field that is a floating point number that is required. "
   ]
  },
  {
   "cell_type": "code",
   "execution_count": null,
   "id": "c08962df",
   "metadata": {},
   "outputs": [],
   "source": [
    "CREATE TABLE automagic (\n",
    "\tid SERIAL,\n",
    "\tname VARCHAR (32),\n",
    "\theight FLOAT8 not NULL,\n",
    "\tPRIMARY KEY (id)\n",
    ");"
   ]
  },
  {
   "cell_type": "code",
   "execution_count": null,
   "id": "05f7a805",
   "metadata": {},
   "outputs": [],
   "source": [
    "# Musical Track Database (CSV) with MANY TO ONE RELATIONSHIP EXAMPLE\n",
    "\n",
    "CREATE TABLE track_raw\n",
    "    (title TEXT, artist TEXT, album TEXT,\n",
    "    count INTEGER, rating INTEGER, len INTEGER);"
   ]
  },
  {
   "cell_type": "code",
   "execution_count": null,
   "id": "5e305325",
   "metadata": {},
   "outputs": [],
   "source": [
    "#load csv data into created table with copy command\n",
    "\n",
    "\\copy track_raw(title,artist,album,count,rating,len) FROM 'library.csv' WITH DELIMITER ',' CSV;"
   ]
  },
  {
   "cell_type": "code",
   "execution_count": null,
   "id": "9111f39d",
   "metadata": {},
   "outputs": [],
   "source": [
    "SELECT title, album FROM track_raw ORDER BY title LIMIT 3;"
   ]
  }
 ],
 "metadata": {
  "kernelspec": {
   "display_name": "Python 3 (ipykernel)",
   "language": "python",
   "name": "python3"
  },
  "language_info": {
   "codemirror_mode": {
    "name": "ipython",
    "version": 3
   },
   "file_extension": ".py",
   "mimetype": "text/x-python",
   "name": "python",
   "nbconvert_exporter": "python",
   "pygments_lexer": "ipython3",
   "version": "3.10.4"
  }
 },
 "nbformat": 4,
 "nbformat_minor": 5
}
