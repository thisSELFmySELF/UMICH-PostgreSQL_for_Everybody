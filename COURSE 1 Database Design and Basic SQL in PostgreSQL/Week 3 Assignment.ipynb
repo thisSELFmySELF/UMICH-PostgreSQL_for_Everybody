{
 "cells": [
  {
   "cell_type": "code",
   "execution_count": null,
   "id": "9c58b561",
   "metadata": {},
   "outputs": [],
   "source": [
    "#Entering Many-to-One Data - Automobiles\n",
    "\n",
    "#Create tables\n",
    "CREATE TABLE make (\n",
    "    id SERIAL,\n",
    "    name VARCHAR(128) UNIQUE,\n",
    "    PRIMARY KEY(id)\n",
    ");\n",
    "\n",
    "CREATE TABLE model (\n",
    "  id SERIAL,\n",
    "  name VARCHAR(128),\n",
    "  make_id INTEGER REFERENCES make(id) ON DELETE CASCADE,\n",
    "  PRIMARY KEY(id)\n",
    ");\n",
    "\n",
    "#Insert data into respective tables that will resemble like the table below\n",
    "make\tmodel\n",
    "Nissan\tJuke Nismo RS AWD\n",
    "Nissan\tKicks\n",
    "Nissan\tLeaf\n",
    "Porsche\tCarrera 4 S Coupe\n",
    "Porsche\tCarrera 4 S Kit\n",
    "\n",
    "#Run Query  \n",
    "#Note : Selection of table referencing for FROM and JOIN are inconsequential \n",
    "#so long as the respective foreign keys and primary keys are defined with the ON clause.\n",
    "SELECT make.name, model.name\n",
    "    FROM model\n",
    "    JOIN make ON model.make_id = make.id\n",
    "    ORDER BY make.name LIMIT 5;"
   ]
  }
 ],
 "metadata": {
  "kernelspec": {
   "display_name": "Python 3 (ipykernel)",
   "language": "python",
   "name": "python3"
  },
  "language_info": {
   "codemirror_mode": {
    "name": "ipython",
    "version": 3
   },
   "file_extension": ".py",
   "mimetype": "text/x-python",
   "name": "python",
   "nbconvert_exporter": "python",
   "pygments_lexer": "ipython3",
   "version": "3.10.4"
  }
 },
 "nbformat": 4,
 "nbformat_minor": 5
}
