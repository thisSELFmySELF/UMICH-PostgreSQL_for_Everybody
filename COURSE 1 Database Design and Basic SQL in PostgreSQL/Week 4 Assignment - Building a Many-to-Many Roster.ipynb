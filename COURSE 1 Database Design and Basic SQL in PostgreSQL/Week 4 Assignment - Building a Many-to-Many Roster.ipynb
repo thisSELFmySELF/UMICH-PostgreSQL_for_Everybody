{
 "cells": [
  {
   "cell_type": "code",
   "execution_count": null,
   "id": "a1e40625",
   "metadata": {},
   "outputs": [],
   "source": [
    "#MANY TO MANY RELATIONSHIP EXAMPLE\n",
    "\n",
    "#Create 3 tables, student, course, member\n",
    "CREATE TABLE student (\n",
    "    id SERIAL,\n",
    "    name VARCHAR(128),\n",
    "    email VARCHAR(128) UNIQUE,\n",
    "    PRIMARY KEY(id)\n",
    "    ) ;\n",
    "\n",
    "CREATE TABLE course (\n",
    "    id SERIAL,\n",
    "    title VARCHAR(128) UNIQUE,\n",
    "    PRIMARY KEY(id)\n",
    "    ) ;\n",
    "\n",
    "#For many to many, 2 foreign keys that were referenced will be intitalized as primary keys for this table.\n",
    "CREATE TABLE member (\n",
    "    student_id INTEGER REFERENCES student(id) ON DELETE CASCADE,\n",
    "    course_id INTEGER REFERENCES course(id) ON DELETE CASCADE,\n",
    "    role INTEGER,\n",
    "    PRIMARY KEY (student_id, course_id)\n",
    "    ) ;\n",
    "\n",
    "#Insert data into tables\n",
    "INSERT INTO student (name, email) VALUES ('Jane', 'jane@tsugi.org');\n",
    "INSERT INTO student (name, email) VALUES ('Ed', 'ed@tsugi.org');\n",
    "INSERT INTO student (name, email) VALUES ('Sue', 'sue@tsugi.org');\n",
    "\n",
    "INSERT INTO course (title) VALUES ('Python');\n",
    "INSERT INTO course (title) VALUES ('SQL');\n",
    "INSERT INTO course (title) VALUES ('PHP');\n",
    "\n",
    "INSERT INTO member (student_id, course_id, role) VALUES (1, 1, 1);\n",
    "INSERT INTO member (student_id, course_id, role) VALUES (2, 1, 0);\n",
    "INSERT INTO member (student_id, course_id, role) VALUES (3, 1, 0);\n",
    "INSERT INTO member (student_id, course_id, role) VALUES (1, 2, 0);\n",
    "INSERT INTO member (student_id, course_id, role) VALUES (2, 2, 1);\n",
    "INSERT INTO member (student_id, course_id, role) VALUES (2, 3, 1);\n",
    "INSERT INTO member (student_id, course_id, role) VALUES (3, 3, 0);\n",
    "\n",
    "#Run Query\n",
    "SELECT student.name, member.role, course.title\n",
    "FROM student\n",
    "JOIN member ON member.student_id = student.id\n",
    "JOIN course ON member.course_id = course.id \n",
    "ORDER BY course.title, member.role DESC, student.name;"
   ]
  }
 ],
 "metadata": {
  "kernelspec": {
   "display_name": "Python 3 (ipykernel)",
   "language": "python",
   "name": "python3"
  },
  "language_info": {
   "codemirror_mode": {
    "name": "ipython",
    "version": 3
   },
   "file_extension": ".py",
   "mimetype": "text/x-python",
   "name": "python",
   "nbconvert_exporter": "python",
   "pygments_lexer": "ipython3",
   "version": "3.10.4"
  }
 },
 "nbformat": 4,
 "nbformat_minor": 5
}
